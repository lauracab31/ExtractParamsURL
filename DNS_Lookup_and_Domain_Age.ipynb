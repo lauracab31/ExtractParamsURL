{
 "cells": [
  {
   "cell_type": "code",
   "execution_count": 27,
   "id": "5e0e78b7",
   "metadata": {},
   "outputs": [
    {
     "data": {
      "text/plain": [
       "1"
      ]
     },
     "execution_count": 27,
     "metadata": {},
     "output_type": "execute_result"
    }
   ],
   "source": [
    "import dns.resolver\n",
    "from urllib.parse import urlparse\n",
    "from datetime import datetime\n",
    "\n",
    "def has_DNS_Record(url):\n",
    "    domain = None;\n",
    "    try:\n",
    "        parsed_url = urlparse(url)\n",
    "        domain = parsed_url.netloc\n",
    "        if domain.startswith(\"www.\"):\n",
    "            domain = domain[4:]\n",
    "        result = dns.resolver.resolve(domain, 'NS')\n",
    "        if len(result)>0:\n",
    "            return 1\n",
    "        else:\n",
    "            return -1\n",
    "    except Exception as e:\n",
    "        print(f\"Error when extracting the DNS from URL : {e}, autoreturning False\")\n",
    "        return False;\n",
    "        \n",
    "# Exemple d'utilisation\n",
    "url = \"https://www.marmiton.org/recettes/recette_pate-a-crepes_12372.aspx\"\n",
    "has_DNS_Record(url)"
   ]
  },
  {
   "cell_type": "code",
   "execution_count": 28,
   "id": "494d61c5",
   "metadata": {},
   "outputs": [
    {
     "data": {
      "text/plain": [
       "-1"
      ]
     },
     "execution_count": 28,
     "metadata": {},
     "output_type": "execute_result"
    }
   ],
   "source": [
    "import requests\n",
    "from datetime import datetime\n",
    "\n",
    "def age_of_domain(url):\n",
    "    try:\n",
    "        response = requests.get(f\"http://web.archive.org/cdx/search/cdx?url={url}&output=json&limit=1\")\n",
    "        if response.status_code == 200 and len(response.json()) > 1:\n",
    "            first_entry = response.json()[1]\n",
    "            first_date = first_entry[1]\n",
    "            age_in_days = (datetime.now() - datetime.strptime(first_date, \"%Y%m%d%H%M%S\")).days\n",
    "            age_in_years = age_in_days // 365\n",
    "            if age_in_years>1:\n",
    "                return 1\n",
    "            else:\n",
    "                return -1\n",
    "        else:\n",
    "            print(\"No archives found, autoreturning False\")\n",
    "            return False;\n",
    "        \n",
    "    except Exception as e:\n",
    "        print(f\"Error when extracting the age of the domain from URL : {e}, autoreturning False\")\n",
    "        return False;\n",
    "    \n",
    "\n",
    "# Example usage\n",
    "age_of_domain(\"https://danielaunan.tech/\")"
   ]
  },
  {
   "cell_type": "code",
   "execution_count": null,
   "id": "d6fa9cdb",
   "metadata": {},
   "outputs": [],
   "source": [
    "def web_traffic(url):\n",
    "    "
   ]
  }
 ],
 "metadata": {
  "kernelspec": {
   "display_name": "Python 3 (ipykernel)",
   "language": "python",
   "name": "python3"
  },
  "language_info": {
   "codemirror_mode": {
    "name": "ipython",
    "version": 3
   },
   "file_extension": ".py",
   "mimetype": "text/x-python",
   "name": "python",
   "nbconvert_exporter": "python",
   "pygments_lexer": "ipython3",
   "version": "3.9.7"
  }
 },
 "nbformat": 4,
 "nbformat_minor": 5
}
