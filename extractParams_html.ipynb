{
 "cells": [
  {
   "cell_type": "code",
   "execution_count": 1,
   "id": "646a46da-d4a9-49fd-9765-1aae4e1dfb42",
   "metadata": {},
   "outputs": [],
   "source": [
    "import requests\n",
    "from bs4 import BeautifulSoup\n",
    "from urllib.parse import urlparse, urljoin"
   ]
  },
  {
   "cell_type": "code",
   "execution_count": 6,
   "id": "24731c6b-f12a-4361-9080-f6a5ef2fea2d",
   "metadata": {},
   "outputs": [],
   "source": [
    "def has_popup(url):\n",
    "    response = requests.get(url)\n",
    "\n",
    "    # Analyser le contenu HTML avec BeautifulSoup\n",
    "    soup = BeautifulSoup(response.text, 'html.parser')\n",
    "\n",
    "    # Vérifier si le code HTML contient des balises de popup\n",
    "    popup_keywords = ['popup', 'modal', 'alert', 'dialog']\n",
    "    popup_found = False\n",
    "\n",
    "    for keyword in popup_keywords:\n",
    "        if soup.find_all(attrs={\"class\": keyword}) or soup.find_all(attrs={\"id\": keyword}):\n",
    "            popup_found = True\n",
    "            print(f\"Popup keyword '{keyword}' detected!Popup Detected in HTML!\")\n",
    "            return True\n",
    "    print(f\"Popup keyword not detected!!\")\n",
    "\n",
    "    return popup_found"
   ]
  },
  {
   "cell_type": "code",
   "execution_count": 7,
   "id": "df29a445-fd01-4709-b415-fc061927265d",
   "metadata": {},
   "outputs": [],
   "source": [
    "def has_iframe(url):\n",
    "    response = requests.get(url)\n",
    "\n",
    "    # Analyser le contenu HTML avec BeautifulSoup\n",
    "    soup = BeautifulSoup(response.text, 'html.parser')\n",
    "\n",
    "    # Vérifier si le code HTML contient des balises iframe\n",
    "    iframes = soup.find_all('iframe')\n",
    "\n",
    "    if iframes:\n",
    "        print(f\"Found {len(iframes)} iframe(s):\")\n",
    "        for i, iframe in enumerate(iframes, start=1):\n",
    "            print(f\"\\nIframe {i}:\")\n",
    "            print(f\" - Full Tag: {iframe}\")\n",
    "            print(f\" - Source (src): {iframe.get('src', 'No src attribute')}\")\n",
    "            return True\n",
    "    else:\n",
    "        return False"
   ]
  },
  {
   "cell_type": "code",
   "execution_count": 8,
   "id": "16cc63af-8ec9-4474-9a6b-f7f6f66d7dfe",
   "metadata": {},
   "outputs": [],
   "source": [
    "def has_rightClick(url):\n",
    "    response = requests.get(url)\n",
    "    soup = BeautifulSoup(response.text, 'html.parser')\n",
    "\n",
    "    # verifier dans le div s'il contient click droit\n",
    "    overlays = soup.find_all('div', style=lambda value: value and 'pointer-events: none' in value)\n",
    "    if overlays:\n",
    "        print(\"Overlay detected that may block right-click.\")\n",
    "    else:\n",
    "        print(\"No overlay detected.\")\n"
   ]
  },
  {
   "cell_type": "code",
   "execution_count": 9,
   "id": "2727c602-ba30-4ca6-aeba-796e4041d7e5",
   "metadata": {},
   "outputs": [
    {
     "name": "stdout",
     "output_type": "stream",
     "text": [
      "\n",
      "Analyse de l'URL : https://www.marmiton.org/recettes/recette_pate-a-crepes_12372.aspx\n",
      "Popup keyword not detected!!\n",
      "Popup keyword not detected!!\n",
      "Popup keyword not detected!!\n",
      "Popup keyword not detected!!\n",
      "Found 2 iframe(s):\n",
      "\n",
      "Iframe 1:\n",
      " - Full Tag: <iframe height=\"0\" src=\"https://www.googletagmanager.com/ns.html?id=GTM-N8FW6BPP\" style=\"display:none;visibility:hidden\" width=\"0\"></iframe>\n",
      " - Source (src): https://www.googletagmanager.com/ns.html?id=GTM-N8FW6BPP\n",
      "No overlay detected.\n",
      "\n",
      "Analyse de l'URL : https://www.wikipedia.org\n",
      "Popup keyword not detected!!\n",
      "Popup keyword not detected!!\n",
      "Popup keyword not detected!!\n",
      "Popup keyword not detected!!\n",
      "No overlay detected.\n",
      "\n",
      "Analyse de l'URL : https://www.kaggle.com/datasets/nitsey/dataset-phising-website\n",
      "Popup keyword not detected!!\n",
      "Popup keyword not detected!!\n",
      "Popup keyword not detected!!\n",
      "Popup keyword not detected!!\n",
      "No overlay detected.\n"
     ]
    }
   ],
   "source": [
    "urls = [\n",
    "\n",
    "    \"https://www.marmiton.org/recettes/recette_pate-a-crepes_12372.aspx\",\n",
    "    \"https://www.wikipedia.org\",\n",
    "    \"https://www.kaggle.com/datasets/nitsey/dataset-phising-website\"\n",
    "\n",
    "]\n",
    "\n",
    "for url in urls:\n",
    "    print(f\"\\nAnalyse de l'URL : {url}\")\n",
    "    has_popup(url)\n",
    "    has_iframe(url)\n",
    "    has_rightClick(url)"
   ]
  },
  {
   "cell_type": "code",
   "execution_count": null,
   "id": "dbae7ae6-81e3-4211-b858-e185d126e7ec",
   "metadata": {},
   "outputs": [],
   "source": []
  }
 ],
 "metadata": {
  "kernelspec": {
   "display_name": "Python 3 (ipykernel)",
   "language": "python",
   "name": "python3"
  },
  "language_info": {
   "codemirror_mode": {
    "name": "ipython",
    "version": 3
   },
   "file_extension": ".py",
   "mimetype": "text/x-python",
   "name": "python",
   "nbconvert_exporter": "python",
   "pygments_lexer": "ipython3",
   "version": "3.9.20"
  }
 },
 "nbformat": 4,
 "nbformat_minor": 5
}
